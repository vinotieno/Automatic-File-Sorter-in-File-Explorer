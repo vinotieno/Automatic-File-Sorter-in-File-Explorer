{
 "cells": [
  {
   "cell_type": "markdown",
   "id": "409f7124-95f2-4e03-ab90-dbc82816cd28",
   "metadata": {},
   "source": [
    "# Automatic File Sorter in File Explorer\n",
    "\n",
    "\n",
    "\n",
    "We are going to walk through how to create a File Sorter using Python. This will allow us to automate the sorting of our files without having to drag and drop files into folders.\n",
    "\n",
    "\n",
    "\n",
    "OS----> OPERATING SYSTEM\n",
    "\n",
    "SHUTIL----->IT WILL ALLOW US TO DO SOME HIGH LEVEL OPERATION ON OUR FILES IN FILE EXPLORER\n",
    "\n",
    "r---> read as row string"
   ]
  },
  {
   "cell_type": "code",
   "execution_count": null,
   "id": "ee9ab2f7-06cd-4f4f-a072-aba9fc467d17",
   "metadata": {},
   "outputs": [],
   "source": []
  },
  {
   "cell_type": "code",
   "execution_count": 1,
   "id": "854bcf7d-f96d-4c83-a5ce-50af90139606",
   "metadata": {},
   "outputs": [],
   "source": [
    "import os, shutil"
   ]
  },
  {
   "cell_type": "code",
   "execution_count": 6,
   "id": "fa01e33d-a4e6-4507-867d-a9150cf6ead8",
   "metadata": {},
   "outputs": [],
   "source": [
    "path = r'C:\\Users\\ADMIN\\Documents\\pract\\project 1'"
   ]
  },
  {
   "cell_type": "code",
   "execution_count": 7,
   "id": "6816d023-3bd5-43fd-b11f-d94cb9a256fd",
   "metadata": {},
   "outputs": [
    {
     "data": {
      "text/plain": [
       "['bernese-mountain-dog-7928156_1280.webp',\n",
       " 'Mammgy.PNG',\n",
       " 'onlinefoods.csv',\n",
       " 'shepherd-dog-4357790_1280.jpg',\n",
       " 'Vincent Omond1.docx']"
      ]
     },
     "execution_count": 7,
     "metadata": {},
     "output_type": "execute_result"
    }
   ],
   "source": [
    "os.listdir(path)"
   ]
  },
  {
   "cell_type": "code",
   "execution_count": null,
   "id": "5b9cba01-87d0-4082-9a4e-7dcae21b0720",
   "metadata": {},
   "outputs": [],
   "source": []
  },
  {
   "cell_type": "code",
   "execution_count": null,
   "id": "1ff928db-45b3-4084-8cc8-1fbf145665b6",
   "metadata": {},
   "outputs": [],
   "source": []
  },
  {
   "cell_type": "code",
   "execution_count": 8,
   "id": "b7713041-4651-441f-8b5f-8eef41f29e56",
   "metadata": {},
   "outputs": [
    {
     "data": {
      "text/plain": [
       "['bernese-mountain-dog-7928156_1280.webp',\n",
       " 'Mammgy.PNG',\n",
       " 'onlinefoods.csv',\n",
       " 'shepherd-dog-4357790_1280.jpg',\n",
       " 'Vincent Omond1.docx']"
      ]
     },
     "execution_count": 8,
     "metadata": {},
     "output_type": "execute_result"
    }
   ],
   "source": [
    "import os, shutil\n",
    "\n",
    "path = r'C:/Users/ADMIN/Documents/pract/project 1/'\n",
    "\n",
    "os.listdir(path)\n"
   ]
  },
  {
   "cell_type": "code",
   "execution_count": null,
   "id": "e78bb1c8-50a8-4af8-b4c0-bd728ceb7eda",
   "metadata": {},
   "outputs": [],
   "source": []
  },
  {
   "cell_type": "code",
   "execution_count": null,
   "id": "2eeebfaa-307b-4713-ad9d-8e97f1b9dfed",
   "metadata": {},
   "outputs": [],
   "source": [
    "########### create an empty folder"
   ]
  },
  {
   "cell_type": "code",
   "execution_count": 10,
   "id": "2710f7d4-2f75-445a-a4c9-1240d5ae1dfb",
   "metadata": {},
   "outputs": [
    {
     "name": "stdout",
     "output_type": "stream",
     "text": [
      "C:/Users/ADMIN/Documents/pract/project 1/csv files\n",
      "C:/Users/ADMIN/Documents/pract/project 1/image files\n",
      "C:/Users/ADMIN/Documents/pract/project 1/document files\n"
     ]
    }
   ],
   "source": [
    "folder_names = ['csv files', 'image files','document files']\n",
    "\n",
    "for loop in range(0,3):\n",
    "    if not os.path.exists(path + folder_names[loop]):\n",
    "        print(path + folder_names[loop])\n",
    "        os.makedirs(path + folder_names[loop])\n",
    "                "
   ]
  },
  {
   "cell_type": "code",
   "execution_count": null,
   "id": "f5ac1797-b1fc-4ed6-9a34-a19c4c04d4f5",
   "metadata": {},
   "outputs": [],
   "source": []
  },
  {
   "cell_type": "code",
   "execution_count": null,
   "id": "0cfa38d8-f5d0-4b1c-a4c3-be7bf1524497",
   "metadata": {},
   "outputs": [],
   "source": [
    "########## now we put the files into there respective folders without droping them"
   ]
  },
  {
   "cell_type": "code",
   "execution_count": 14,
   "id": "a902663f-0f7e-404e-a29a-e46009ecae31",
   "metadata": {},
   "outputs": [],
   "source": [
    "file_name = os.listdir(path)\n",
    "\n",
    "\n",
    "folder_names = ['csv files', 'image files','document files']\n",
    "\n",
    "for loop in range(0,3):\n",
    "    if not os.path.exists(path + folder_names[loop]):\n",
    "        print(path + folder_names[loop])\n",
    "        os.makedirs(path + folder_names[loop])\n",
    "\n",
    "for file in file_name:\n",
    "    if '.csv' in file and not os.path.exists(path + 'csv files/' + file):\n",
    "        shutil.move(path + file, path + 'csv files/' + file)\n",
    "\n",
    "    elif '.PNG' in file and not os.path.exists(path + 'image files/' + file):\n",
    "        shutil.move(path + file, path + 'image files/' + file)\n",
    "\n",
    "    elif '.doc' in file and not os.path.exists(path + 'document files/' + file):\n",
    "        shutil.move(path + file, path + 'document files/' + file)\n",
    "\n",
    "    else:\n",
    "        print('There are files in this path that were not moved')\n",
    "\n"
   ]
  },
  {
   "cell_type": "code",
   "execution_count": 22,
   "id": "f0af0ff1-c366-486f-baec-51aee2d5e717",
   "metadata": {},
   "outputs": [
    {
     "name": "stdout",
     "output_type": "stream",
     "text": [
      "There are files in this path that were not moved\n",
      "There are files in this path that were not moved\n",
      "There are files in this path that were not moved\n",
      "There are files in this path that were not moved\n",
      "There are files in this path that were not moved\n",
      "There are files in this path that were not moved\n",
      "There are files in this path that were not moved\n"
     ]
    }
   ],
   "source": [
    "for file in file_name:\n",
    "    if '.csv' in file and not os.path.exists(path + 'csv files/' + file):\n",
    "        shutil.move(path + file, path + 'csv files/' + file)\n",
    "\n",
    "    elif '.PNG' in file and not os.path.exists(path + 'image files/' + file):\n",
    "        shutil.move(path + file, path + 'image files/' + file)\n",
    "\n",
    "    elif '.doc' in file and not os.path.exists(path + 'document files/' + file):\n",
    "        shutil.move(path + file, path + 'document files/' + file)\n",
    "\n",
    "    else:\n",
    "        print('There are files in this path that were not moved')\n",
    "\n",
    "        "
   ]
  },
  {
   "cell_type": "code",
   "execution_count": null,
   "id": "23b86182-07be-4e76-a84d-2dcf6aaedfd4",
   "metadata": {},
   "outputs": [],
   "source": []
  },
  {
   "cell_type": "code",
   "execution_count": null,
   "id": "4600a500-6895-4d9a-ac66-66ba58cfe9f7",
   "metadata": {},
   "outputs": [],
   "source": []
  },
  {
   "cell_type": "code",
   "execution_count": null,
   "id": "087b5c78-7b57-429d-8733-36cecd0b9465",
   "metadata": {},
   "outputs": [],
   "source": [
    "file_name = os.listdir(path)\n",
    "\n",
    "\n",
    "folder_names = ['csv files', 'image files','document files']\n",
    "\n",
    "for loop in range(0,3):\n",
    "    if not os.path.exists(path + folder_names[loop]):\n",
    "        #print(path + folder_names[loop])\n",
    "        os.makedirs(path + folder_names[loop])\n",
    "\n",
    "for file in file_name:\n",
    "    if '.csv' in file and not os.path.exists(path + 'csv files/' + file):\n",
    "        shutil.move(path + file, path + 'csv files/' + file)\n",
    "\n",
    "    elif '.PNG' in file and not os.path.exists(path + 'image files/' + file):\n",
    "        shutil.move(path + file, path + 'image files/' + file)\n",
    "\n",
    "    elif '.doc' in file and not os.path.exists(path + 'document files/' + file):\n",
    "        shutil.move(path + file, path + 'document files/' + file)\n",
    "\n",
    "    else:\n",
    "        print('There are files in this path that were not moved')"
   ]
  },
  {
   "cell_type": "code",
   "execution_count": null,
   "id": "d1e94c4a-46b2-49be-9945-e5b9b37159e3",
   "metadata": {},
   "outputs": [],
   "source": []
  },
  {
   "cell_type": "markdown",
   "id": "199a6005-4f26-4a9e-97e7-3e9ca3870efd",
   "metadata": {},
   "source": [
    "### FINAL ONE PART"
   ]
  },
  {
   "cell_type": "code",
   "execution_count": null,
   "id": "e107962e-6bb7-45a3-aaa7-9e4ff086d0d9",
   "metadata": {},
   "outputs": [],
   "source": [
    "import os, shutil\n",
    "\n",
    "path = r'C:\\Users\\ADMIN\\Documents\\pract\\project 1'\n",
    "\n",
    "os.listdir(path)\n",
    "\n",
    "\n",
    "\n",
    "file_name = os.listdir(path)\n",
    "folder_names = ['csv files', 'image files','document files']\n",
    "for loop in range(0,3):\n",
    "    if not os.path.exists(path + folder_names[loop]):\n",
    "        #print(path + folder_names[loop])\n",
    "        os.makedirs(path + folder_names[loop])\n",
    "\n",
    "for file in file_name:\n",
    "    if '.csv' in file and not os.path.exists(path + 'csv files/' + file):\n",
    "        shutil.move(path + file, path + 'csv files/' + file)\n",
    "\n",
    "    elif '.PNG' in file and not os.path.exists(path + 'image files/' + file):\n",
    "        shutil.move(path + file, path + 'image files/' + file)\n",
    "\n",
    "    elif '.doc' in file and not os.path.exists(path + 'document files/' + file):\n",
    "        shutil.move(path + file, path + 'document files/' + file)\n"
   ]
  },
  {
   "cell_type": "code",
   "execution_count": null,
   "id": "6fae3d3c-62e4-4d7c-a261-7ce920d6e04e",
   "metadata": {},
   "outputs": [],
   "source": []
  }
 ],
 "metadata": {
  "kernelspec": {
   "display_name": "Python 3 (ipykernel)",
   "language": "python",
   "name": "python3"
  },
  "language_info": {
   "codemirror_mode": {
    "name": "ipython",
    "version": 3
   },
   "file_extension": ".py",
   "mimetype": "text/x-python",
   "name": "python",
   "nbconvert_exporter": "python",
   "pygments_lexer": "ipython3",
   "version": "3.11.7"
  }
 },
 "nbformat": 4,
 "nbformat_minor": 5
}
